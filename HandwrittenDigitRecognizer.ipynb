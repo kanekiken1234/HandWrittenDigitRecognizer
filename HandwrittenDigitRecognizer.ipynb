{
  "nbformat": 4,
  "nbformat_minor": 0,
  "metadata": {
    "colab": {
      "name": "HandwrittenDigitRecognizer.ipynb",
      "provenance": [],
      "collapsed_sections": [],
      "authorship_tag": "ABX9TyO5aEKDFWEa4Gz86s2J+uH8",
      "include_colab_link": true
    },
    "kernelspec": {
      "name": "python3",
      "display_name": "Python 3"
    }
  },
  "cells": [
    {
      "cell_type": "markdown",
      "metadata": {
        "id": "view-in-github",
        "colab_type": "text"
      },
      "source": [
        "<a href=\"https://colab.research.google.com/github/kanekiken1234/HandWrittenDigitRecognizer/blob/master/HandwrittenDigitRecognizer.ipynb\" target=\"_parent\"><img src=\"https://colab.research.google.com/assets/colab-badge.svg\" alt=\"Open In Colab\"/></a>"
      ]
    },
    {
      "cell_type": "code",
      "metadata": {
        "id": "-uU8rS54YTzA",
        "colab_type": "code",
        "colab": {
          "base_uri": "https://localhost:8080/",
          "height": 565
        },
        "outputId": "92bf697e-ee28-4dc1-f3ec-b3ca725ba0fa"
      },
      "source": [
        "import keras\n",
        "from keras.datasets import mnist\n",
        "from keras.models import Sequential\n",
        "from keras.layers import Dense, Dropout, Flatten\n",
        "from keras.layers import Conv2D, MaxPooling2D\n",
        "import numpy as np\n",
        "\n",
        "batch_size = 128\n",
        "num_classes = 10\n",
        "epochs = 12\n",
        "\n",
        "img_rows, img_cols = 28, 28\n",
        "\n",
        "(x_train, y_train), (x_test, y_test) = mnist.load_data()\n",
        "\n",
        "x_train = x_train.reshape(60000,28,28,1)\n",
        "x_test = x_test.reshape(10000,28,28,1)\n",
        "\n",
        "print('x_train shape:', x_train.shape)\n",
        "print(x_train.shape[0], 'train samples')\n",
        "print(x_test.shape[0], 'test samples')\n",
        "\n",
        "y_train = keras.utils.to_categorical(y_train, num_classes)\n",
        "y_test = keras.utils.to_categorical(y_test, num_classes)\n",
        "\n",
        "model = Sequential()\n",
        "model.add(Conv2D(32, kernel_size=(3, 3),\n",
        "                 activation='relu',\n",
        "                 input_shape=(28,28,1)))\n",
        "model.add(Conv2D(64, (3, 3), activation='relu'))\n",
        "model.add(MaxPooling2D(pool_size=(2, 2)))\n",
        "model.add(Dropout(0.25))\n",
        "model.add(Flatten())\n",
        "model.add(Dense(128, activation='relu'))\n",
        "model.add(Dropout(0.5))\n",
        "model.add(Dense(num_classes, activation='softmax'))\n",
        "\n",
        "model.compile(loss=keras.losses.categorical_crossentropy,\n",
        "              optimizer=keras.optimizers.Adadelta(),\n",
        "              metrics=['accuracy'])\n",
        "\n",
        "model.fit(x_train, y_train,\n",
        "          batch_size=batch_size,\n",
        "          epochs=epochs,\n",
        "          verbose=1,\n",
        "          validation_data=(x_test, y_test))\n",
        "score = model.evaluate(x_test, y_test, verbose=0)\n",
        "print('Test loss:', score[0])\n",
        "print('Test accuracy:', score[1])"
      ],
      "execution_count": null,
      "outputs": [
        {
          "output_type": "stream",
          "text": [
            "x_train shape: (60000, 28, 28, 1)\n",
            "60000 train samples\n",
            "10000 test samples\n",
            "Epoch 1/12\n",
            "469/469 [==============================] - 143s 305ms/step - loss: 26.2905 - accuracy: 0.1425 - val_loss: 4.2535 - val_accuracy: 0.3874\n",
            "Epoch 2/12\n",
            "469/469 [==============================] - 142s 303ms/step - loss: 11.0521 - accuracy: 0.2506 - val_loss: 1.7789 - val_accuracy: 0.5661\n",
            "Epoch 3/12\n",
            "469/469 [==============================] - 142s 303ms/step - loss: 5.6795 - accuracy: 0.3166 - val_loss: 1.3180 - val_accuracy: 0.5683\n",
            "Epoch 4/12\n",
            "469/469 [==============================] - 142s 303ms/step - loss: 3.5245 - accuracy: 0.3334 - val_loss: 1.4256 - val_accuracy: 0.5215\n",
            "Epoch 5/12\n",
            "469/469 [==============================] - 142s 302ms/step - loss: 2.6235 - accuracy: 0.3382 - val_loss: 1.5591 - val_accuracy: 0.4919\n",
            "Epoch 6/12\n",
            "469/469 [==============================] - 142s 304ms/step - loss: 2.2457 - accuracy: 0.3389 - val_loss: 1.5969 - val_accuracy: 0.4859\n",
            "Epoch 7/12\n",
            "469/469 [==============================] - 142s 302ms/step - loss: 2.0754 - accuracy: 0.3503 - val_loss: 1.5789 - val_accuracy: 0.4955\n",
            "Epoch 8/12\n",
            "469/469 [==============================] - 142s 303ms/step - loss: 1.9740 - accuracy: 0.3616 - val_loss: 1.5298 - val_accuracy: 0.5306\n",
            "Epoch 9/12\n",
            "469/469 [==============================] - 142s 303ms/step - loss: 1.8860 - accuracy: 0.3857 - val_loss: 1.4549 - val_accuracy: 0.5620\n",
            "Epoch 10/12\n",
            "469/469 [==============================] - 142s 303ms/step - loss: 1.8232 - accuracy: 0.4033 - val_loss: 1.3818 - val_accuracy: 0.5861\n",
            "Epoch 11/12\n",
            "469/469 [==============================] - 142s 303ms/step - loss: 1.7632 - accuracy: 0.4213 - val_loss: 1.3058 - val_accuracy: 0.6120\n",
            "Epoch 12/12\n",
            "469/469 [==============================] - 142s 303ms/step - loss: 1.7068 - accuracy: 0.4344 - val_loss: 1.2332 - val_accuracy: 0.6344\n",
            "Test loss: 1.2331604957580566\n",
            "Test accuracy: 0.6344000101089478\n"
          ],
          "name": "stdout"
        }
      ]
    },
    {
      "cell_type": "code",
      "metadata": {
        "id": "RBNwhDaHZ6Wl",
        "colab_type": "code",
        "colab": {}
      },
      "source": [
        ""
      ],
      "execution_count": null,
      "outputs": []
    }
  ]
}